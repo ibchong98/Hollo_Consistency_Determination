{
  "nbformat": 4,
  "nbformat_minor": 0,
  "metadata": {
    "colab": {
      "name": "Param_determination.ipynb",
      "provenance": []
    },
    "kernelspec": {
      "name": "python3",
      "display_name": "Python 3"
    }
  },
  "cells": [
    {
      "cell_type": "markdown",
      "metadata": {
        "id": "h84lj3iHWSIZ"
      },
      "source": [
        "# **Determination of consistency in users' responses to questionnaire**\n",
        "\n",
        "---\n",
        "\n",
        "1. Introduction\n",
        "\n",
        "> In order to determine the consistency, ARIMA model will be implemented. The model requires to estimate the parameters. This step must be done manually in beforehand.\n",
        "\n",
        "\n",
        "\n",
        "> This model assumes that there exists overrate (due to the exaggeration of self-status) and underrate (due to the self-downing from depressed users) in the procedure of questionnaire. \n",
        "\n",
        "\n",
        "\n",
        "2. The parameter determination stage\n",
        "\n",
        "> The parameter determination stage will be done manually by this ipynb file. The automated code will be in py file.\n",
        "\n",
        "\n",
        "\n",
        "---\n",
        "\n",
        "\n",
        "**Procedure**\n",
        "\n",
        "ARIMA train_model takes three parameters (p, q, d).\n",
        "\n",
        "p = AR train_model lag\n",
        "\n",
        "q = MA train_model lag\n",
        "\n",
        "d = # of difference\n",
        "\n",
        "\n",
        "\n",
        "**Step 1 (determining p and q)**\n",
        "\n",
        "p*q = 0 (either one should be 0).\n",
        "\n",
        "if p == 1: ACF gradually reduces, while PACF drastically reduces except during initial time difference.\n",
        "\n",
        "else if q == 1: ACF drastically reduces, while PACF gradually reduces.\n",
        "\n",
        "*train data required in order to estimate those parameters.\n",
        "\n",
        "**criteria 2 (determining d)**\n",
        "\n",
        "Based on the train data, DO the difference until p and q shows stationary behavior. \n",
        "\n",
        "After the operation, we can assume the value of each the parameter.\n",
        "\n",
        "Parameter is the number of difference executed.\n",
        "\n",
        "**criteria 3 (determining trend parameter for train_model.fit())**\n",
        "\n",
        "If constant value of (P > z) is larger than 0.05,\n",
        "USE below code for the train_model fit.\n",
        "\n",
        "model_fit = train_model.fit(trend='nc',full_output=True, disp=1)\n",
        "\n",
        "Else if (P > z) is smaller than or equal to 0.05, \n",
        "USE below code for the train_model fit.\n",
        "\n",
        "model_fit = train_model.fit(trend='c',full_output=True, disp=1)\n",
        "\n",
        "\n",
        "\n",
        "\n",
        "\n",
        "\n",
        "\n",
        "\n",
        "\n",
        "\n",
        "\n"
      ]
    },
    {
      "cell_type": "code",
      "metadata": {
        "id": "mNxAetN1Zafb"
      },
      "source": [
        "#Import libraries\n",
        "import pandas as pd\n",
        "import numpy as np\n",
        "import matplotlib.pyplot as plt\n",
        "import statsmodel\n",
        "from statsmodels.graphics.tsaplots import plot_acf, plot_pacf\n",
        "from statsmodels.tsa.arima_model import ARIMA"
      ],
      "execution_count": null,
      "outputs": []
    },
    {
      "cell_type": "code",
      "metadata": {
        "id": "PISQGs4pZnCk"
      },
      "source": [
        "#Train data must be pre-processed in beforehand\n",
        "#Conversion to csv file is required\n",
        "\n",
        "data = pd.read_csv('input_file_here') #train data"
      ],
      "execution_count": null,
      "outputs": []
    },
    {
      "cell_type": "code",
      "metadata": {
        "id": "XnOyJxgUWGMi"
      },
      "source": [
        "#Determination of p and q\n",
        "\n",
        "plot_acf(data)\n",
        "plot_pacf(data)\n",
        "plt.show()\n",
        "\n",
        "#Refer to the step 1 abovementioned in the first cell, and follow the guideline"
      ],
      "execution_count": null,
      "outputs": []
    },
    {
      "cell_type": "code",
      "metadata": {
        "id": "5SJvg3LDbAEO"
      },
      "source": [
        "#determining d\n",
        "\n",
        "diff_1=data.diff(periods=1).iloc[1:]\n",
        "plot_acf(diff_1)\n",
        "plot_pacf(diff_1)\n",
        "plt.show()\n",
        "\n",
        "#Refer to the step 2 abovementioned in the first cell, and follow the guideline"
      ],
      "execution_count": null,
      "outputs": []
    },
    {
      "cell_type": "code",
      "metadata": {
        "id": "ZmfXBBm4bfbd"
      },
      "source": [
        "#determining the trend parameter for the train_model.fit()\n",
        "\n",
        "train_model = ARIMA(data, order=(0,1,1)) #parameters should be changed according to the result above\n",
        "train_model = train_model.fit(trend='c',full_output=True, disp=1) #change trend parameter\n",
        "\n",
        "#Refer to the step 3 abovementioned in the first cell, and follow the guideline"
      ],
      "execution_count": null,
      "outputs": []
    }
  ]
}